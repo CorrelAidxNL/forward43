{
 "cells": [
  {
   "cell_type": "code",
   "execution_count": 13,
   "metadata": {},
   "outputs": [],
   "source": [
    "import os\n",
    "import json\n",
    "import uuid\n",
    "\n",
    "import utils_elasticsearch as utils\n",
    "\n",
    "from elasticsearch import helpers"
   ]
  },
  {
   "cell_type": "code",
   "execution_count": 8,
   "metadata": {},
   "outputs": [
    {
     "name": "stdout",
     "output_type": "stream",
     "text": [
      "Connected to <Elasticsearch([{'host': 'localhost', 'port': 9200}])>\n"
     ]
    }
   ],
   "source": [
    "es = utils.connect_elasticsearch()"
   ]
  },
  {
   "cell_type": "code",
   "execution_count": 4,
   "metadata": {},
   "outputs": [],
   "source": [
    "def read_json_file(filename):\n",
    "\n",
    "    with open(filename, 'r') as f:\n",
    "        lines = f.readlines()\n",
    "\n",
    "    json_data = []\n",
    "    for line in lines:\n",
    "        temp_json = json.loads(line)['data']\n",
    "        \n",
    "        json_data.append({\n",
    "            'name'    : temp_json['name'],\n",
    "            'state'   : temp_json['state'],\n",
    "            'pledged' : temp_json['pledged'],\n",
    "            'creator' : temp_json['creator']['name']\n",
    "        })\n",
    "\n",
    "    return json_data\n",
    "\n",
    "json_data = read_json_file('../data/kickstarter_test.json')"
   ]
  },
  {
   "cell_type": "code",
   "execution_count": 9,
   "metadata": {},
   "outputs": [],
   "source": [
    "actions = [\n",
    "    {\n",
    "        \"_id\"      : uuid.uuid4(), # random UUID for _id\n",
    "        \"doc_type\" : \"_doc\", # document _type\n",
    "        \"doc\"      : doc,\n",
    "        \n",
    "    }\n",
    "    for doc in json_data\n",
    "]"
   ]
  },
  {
   "cell_type": "code",
   "execution_count": 11,
   "metadata": {},
   "outputs": [
    {
     "data": {
      "text/plain": [
       "[{'name': 'Palmetto Pork Skins',\n",
       "  'state': 'failed',\n",
       "  'pledged': 50,\n",
       "  'creator': 'Palmetto Pork Skins (deleted)'},\n",
       " {'name': 'Photography Gloves: Extend your session in style',\n",
       "  'state': 'successful',\n",
       "  'pledged': 355520,\n",
       "  'creator': 'Vallerret Photography Gloves'},\n",
       " {'name': 'Eat Shit: A Memorial Pin Campaign',\n",
       "  'state': 'successful',\n",
       "  'pledged': 253,\n",
       "  'creator': 'Enzo Daniel'},\n",
       " {'name': 'TRIC Clothing Co.',\n",
       "  'state': 'successful',\n",
       "  'pledged': 4475,\n",
       "  'creator': 'Brandon Maddux'},\n",
       " {'name': \"Women's Gold Medalists Rio 2016\",\n",
       "  'state': 'successful',\n",
       "  'pledged': 50899,\n",
       "  'creator': 'Wendy Fox'}]"
      ]
     },
     "execution_count": 11,
     "metadata": {},
     "output_type": "execute_result"
    }
   ],
   "source": [
    "json_data"
   ]
  },
  {
   "cell_type": "code",
   "execution_count": 14,
   "metadata": {},
   "outputs": [],
   "source": [
    "response = helpers.bulk(es, actions, index='forward43')"
   ]
  },
  {
   "cell_type": "code",
   "execution_count": 15,
   "metadata": {},
   "outputs": [
    {
     "data": {
      "text/plain": [
       "(5, [])"
      ]
     },
     "execution_count": 15,
     "metadata": {},
     "output_type": "execute_result"
    }
   ],
   "source": [
    "response"
   ]
  },
  {
   "cell_type": "code",
   "execution_count": 16,
   "metadata": {},
   "outputs": [],
   "source": [
    "def bulk_json_data():\n",
    "\n",
    "    for doc in json_data:\n",
    "        if '{\"index\"' not in doc:\n",
    "            yield {\n",
    "                \"_index\"  : 'forward43',\n",
    "                \"_type\"   : '_doc',\n",
    "                \"_id\"     : uuid.uuid4(),\n",
    "                \"_source\" : doc\n",
    "            }"
   ]
  },
  {
   "cell_type": "code",
   "execution_count": 17,
   "metadata": {},
   "outputs": [
    {
     "name": "stderr",
     "output_type": "stream",
     "text": [
      "/home/stroopwafel/miniconda3/envs/whispp_env/lib/python3.7/site-packages/elasticsearch/connection/base.py:200: ElasticsearchWarning: [types removal] Specifying types in bulk requests is deprecated.\n",
      "  warnings.warn(message, category=ElasticsearchWarning)\n"
     ]
    }
   ],
   "source": [
    "response = helpers.bulk(es, bulk_json_data())"
   ]
  },
  {
   "cell_type": "code",
   "execution_count": 18,
   "metadata": {},
   "outputs": [
    {
     "data": {
      "text/plain": [
       "(5, [])"
      ]
     },
     "execution_count": 18,
     "metadata": {},
     "output_type": "execute_result"
    }
   ],
   "source": [
    "response"
   ]
  },
  {
   "cell_type": "code",
   "execution_count": null,
   "metadata": {},
   "outputs": [],
   "source": []
  }
 ],
 "metadata": {
  "kernelspec": {
   "display_name": "Python 3",
   "language": "python",
   "name": "python3"
  },
  "language_info": {
   "codemirror_mode": {
    "name": "ipython",
    "version": 3
   },
   "file_extension": ".py",
   "mimetype": "text/x-python",
   "name": "python",
   "nbconvert_exporter": "python",
   "pygments_lexer": "ipython3",
   "version": "3.7.4"
  }
 },
 "nbformat": 4,
 "nbformat_minor": 2
}
