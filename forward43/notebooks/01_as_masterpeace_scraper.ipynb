{
 "cells": [
  {
   "cell_type": "code",
   "execution_count": null,
   "id": "hybrid-sending",
   "metadata": {},
   "outputs": [],
   "source": [
    "%load_ext autoreload\n",
    "%autoreload 2"
   ]
  },
  {
   "cell_type": "code",
   "execution_count": null,
   "id": "coral-brown",
   "metadata": {},
   "outputs": [],
   "source": [
    "from surveymonkey.client import Client\n",
    "from forward43.geolocator import Geolocator\n",
    "from forward43.scraper_masterpeace import MasterpeaceScraper"
   ]
  },
  {
   "cell_type": "code",
   "execution_count": null,
   "id": "decent-screw",
   "metadata": {},
   "outputs": [],
   "source": [
    "access_token=\"\"\"INSERT THE TOKEN HERE\"\"\""
   ]
  },
  {
   "cell_type": "code",
   "execution_count": null,
   "id": "ongoing-amsterdam",
   "metadata": {},
   "outputs": [],
   "source": [
    "x = client.get_survey_lists()"
   ]
  },
  {
   "cell_type": "code",
   "execution_count": null,
   "id": "entertaining-convert",
   "metadata": {},
   "outputs": [],
   "source": [
    "scraper = MasterpeaceScraper(access_token)"
   ]
  },
  {
   "cell_type": "code",
   "execution_count": null,
   "id": "successful-finance",
   "metadata": {},
   "outputs": [],
   "source": [
    "responses_dict = scraper.get_survey_responses(\"MEAL\")"
   ]
  },
  {
   "cell_type": "code",
   "execution_count": null,
   "id": "romance-proceeding",
   "metadata": {},
   "outputs": [],
   "source": [
    "responses_dict"
   ]
  },
  {
   "cell_type": "code",
   "execution_count": null,
   "id": "sought-cuisine",
   "metadata": {},
   "outputs": [],
   "source": [
    "survey_details = scraper.get_survey_details(\"297005313\")"
   ]
  },
  {
   "cell_type": "code",
   "execution_count": null,
   "id": "comprehensive-minnesota",
   "metadata": {},
   "outputs": [],
   "source": [
    "survey_details"
   ]
  },
  {
   "cell_type": "code",
   "execution_count": null,
   "id": "early-coupon",
   "metadata": {},
   "outputs": [],
   "source": [
    "choices_dict = scraper.get_survey_choices(survey_details)"
   ]
  },
  {
   "cell_type": "code",
   "execution_count": null,
   "id": "obvious-lesbian",
   "metadata": {},
   "outputs": [],
   "source": [
    "responses = scraper.get_survey_responses(\"MEAL\")"
   ]
  },
  {
   "cell_type": "code",
   "execution_count": null,
   "id": "atomic-hampshire",
   "metadata": {},
   "outputs": [],
   "source": [
    "responses"
   ]
  },
  {
   "cell_type": "code",
   "execution_count": null,
   "id": "touched-cherry",
   "metadata": {},
   "outputs": [],
   "source": []
  },
  {
   "cell_type": "code",
   "execution_count": null,
   "id": "global-fundamentals",
   "metadata": {},
   "outputs": [],
   "source": [
    "choices_dict"
   ]
  }
 ],
 "metadata": {
  "kernelspec": {
   "display_name": "Python 3",
   "language": "python",
   "name": "python3"
  },
  "language_info": {
   "codemirror_mode": {
    "name": "ipython",
    "version": 3
   },
   "file_extension": ".py",
   "mimetype": "text/x-python",
   "name": "python",
   "nbconvert_exporter": "python",
   "pygments_lexer": "ipython3",
   "version": "3.8.5"
  }
 },
 "nbformat": 4,
 "nbformat_minor": 5
}
